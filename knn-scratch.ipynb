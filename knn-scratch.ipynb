{
 "cells": [
  {
   "cell_type": "code",
   "execution_count": 2,
   "metadata": {
    "_cell_guid": "b1076dfc-b9ad-4769-8c92-a6c4dae69d19",
    "_uuid": "8f2839f25d086af736a60e9eeb907d3b93b6e0e5",
    "execution": {
     "iopub.execute_input": "2022-05-31T19:37:17.293796Z",
     "iopub.status.busy": "2022-05-31T19:37:17.293255Z",
     "iopub.status.idle": "2022-05-31T19:37:17.302097Z",
     "shell.execute_reply": "2022-05-31T19:37:17.301384Z",
     "shell.execute_reply.started": "2022-05-31T19:37:17.293764Z"
    }
   },
   "outputs": [
    {
     "name": "stdout",
     "output_type": "stream",
     "text": [
      "/kaggle/input/sentimentanalyzer/negative.review\n",
      "/kaggle/input/positivereview/positive.review\n",
      "/kaggle/input/ass4-nlp-test/negative.review\n",
      "/kaggle/input/ass4-nlp-test/positive.review\n",
      "/kaggle/input/ass4-nlp-train/negative.review\n",
      "/kaggle/input/ass4-nlp-train/dvdnegative.review\n",
      "/kaggle/input/ass4-nlp-train/positive.review\n",
      "/kaggle/input/ass4-nlp-train/dvdpositive.review\n"
     ]
    }
   ],
   "source": [
    "# This Python 3 environment comes with many helpful analytics libraries installed\n",
    "# It is defined by the kaggle/python Docker image: https://github.com/kaggle/docker-python\n",
    "# For example, here's several helpful packages to load\n",
    "\n",
    "import numpy as np # linear algebra\n",
    "import pandas as pd # data processing, CSV file I/O (e.g. pd.read_csv)\n",
    "\n",
    "# Input data files are available in the read-only \"../input/\" directory\n",
    "# For example, running this (by clicking run or pressing Shift+Enter) will list all files under the input directory\n",
    "\n",
    "import os\n",
    "for dirname, _, filenames in os.walk('/kaggle/input'):\n",
    "    for filename in filenames:\n",
    "        print(os.path.join(dirname, filename))\n",
    "\n",
    "# You can write up to 20GB to the current directory (/kaggle/working/) that gets preserved as output when you create a version using \"Save & Run All\" \n",
    "# You can also write temporary files to /kaggle/temp/, but they won't be saved outside of the current session"
   ]
  },
  {
   "cell_type": "code",
   "execution_count": 2,
   "metadata": {
    "execution": {
     "iopub.execute_input": "2022-05-31T21:38:59.592594Z",
     "iopub.status.busy": "2022-05-31T21:38:59.592129Z",
     "iopub.status.idle": "2022-05-31T21:39:00.042087Z",
     "shell.execute_reply": "2022-05-31T21:39:00.040974Z",
     "shell.execute_reply.started": "2022-05-31T21:38:59.592555Z"
    }
   },
   "outputs": [
    {
     "name": "stdout",
     "output_type": "stream",
     "text": [
      "[nltk_data] Downloading package punkt to /usr/share/nltk_data...\n",
      "[nltk_data]   Package punkt is already up-to-date!\n",
      "[nltk_data] Downloading package wordnet to /usr/share/nltk_data...\n",
      "[nltk_data]   Package wordnet is already up-to-date!\n"
     ]
    }
   ],
   "source": [
    "import nltk\n",
    "nltk.download('punkt')\n",
    "nltk.download('wordnet')\n",
    "import numpy as np\n",
    "\n",
    "from nltk.stem import WordNetLemmatizer\n",
    "from sklearn.linear_model import LogisticRegression\n",
    "from bs4 import BeautifulSoup"
   ]
  },
  {
   "cell_type": "code",
   "execution_count": 3,
   "metadata": {
    "execution": {
     "iopub.execute_input": "2022-05-31T21:39:06.403470Z",
     "iopub.status.busy": "2022-05-31T21:39:06.402872Z",
     "iopub.status.idle": "2022-05-31T21:39:11.851250Z",
     "shell.execute_reply": "2022-05-31T21:39:11.849883Z",
     "shell.execute_reply.started": "2022-05-31T21:39:06.403418Z"
    }
   },
   "outputs": [],
   "source": [
    "#read data from file and get only review_test data\n",
    "book_positive_reviews = BeautifulSoup(open('../input/ass4-nlp-train/positive.review').read())\n",
    "book_positive_reviews = book_positive_reviews.findAll('review_text')\n",
    "\n",
    "book_negative_reviews = BeautifulSoup(open('../input/ass4-nlp-train/negative.review').read())\n",
    "book_negative_reviews = book_negative_reviews.findAll('review_text')\n",
    "\n",
    "dvd_positive_reviews = BeautifulSoup(open('../input/ass4-nlp-train/dvdnegative.review').read())\n",
    "dvd_positive_reviews = dvd_positive_reviews.findAll('review_text')\n",
    "\n",
    "dvd_negative_reviews = BeautifulSoup(open('../input/ass4-nlp-train/dvdnegative.review').read())\n",
    "dvd_negative_reviews = dvd_negative_reviews.findAll('review_text')\n",
    "\n",
    "electronics_positive_reviews= BeautifulSoup(open('../input/positivereview/positive.review').read())\n",
    "electronics_positive_reviews = electronics_positive_reviews.findAll('review_text')\n",
    "\n",
    "electronics_negative_reviews= BeautifulSoup(open('../input/sentimentanalyzer/negative.review').read())\n",
    "electronics_negative_reviews = electronics_negative_reviews.findAll('review_text')\n",
    "\n",
    "kitchen_housewares_positive_reviews=BeautifulSoup(open('../input/ass4-nlp-test/positive.review').read())\n",
    "kitchen_housewares_positive_reviews=kitchen_housewares_positive_reviews.findAll('review_text')\n",
    "\n",
    "kitchen_housewares_negative_reviews=BeautifulSoup(open('../input/ass4-nlp-test/negative.review').read())\n",
    "kitchen_housewares_negative_reviews=kitchen_housewares_negative_reviews.findAll('review_text')"
   ]
  },
  {
   "cell_type": "code",
   "execution_count": 4,
   "metadata": {
    "execution": {
     "iopub.execute_input": "2022-05-31T21:39:17.725014Z",
     "iopub.status.busy": "2022-05-31T21:39:17.724605Z",
     "iopub.status.idle": "2022-05-31T21:39:17.735231Z",
     "shell.execute_reply": "2022-05-31T21:39:17.733831Z",
     "shell.execute_reply.started": "2022-05-31T21:39:17.724980Z"
    }
   },
   "outputs": [],
   "source": [
    "#make shuffling\n",
    "np.random.shuffle(book_positive_reviews)\n",
    "np.random.shuffle(book_negative_reviews)\n",
    "\n",
    "np.random.shuffle(dvd_positive_reviews)\n",
    "np.random.shuffle(dvd_negative_reviews)\n",
    "\n",
    "np.random.shuffle(electronics_positive_reviews)\n",
    "np.random.shuffle(electronics_negative_reviews)\n",
    "\n"
   ]
  },
  {
   "cell_type": "code",
   "execution_count": 5,
   "metadata": {
    "execution": {
     "iopub.execute_input": "2022-05-31T21:39:22.717536Z",
     "iopub.status.busy": "2022-05-31T21:39:22.716944Z",
     "iopub.status.idle": "2022-05-31T21:39:22.723703Z",
     "shell.execute_reply": "2022-05-31T21:39:22.722920Z",
     "shell.execute_reply.started": "2022-05-31T21:39:22.717499Z"
    }
   },
   "outputs": [
    {
     "name": "stdout",
     "output_type": "stream",
     "text": [
      "1000\n",
      "1000\n",
      "1000\n",
      "1000\n",
      "1000\n",
      "1000\n"
     ]
    }
   ],
   "source": [
    "print(len(book_positive_reviews))\n",
    "print(len(book_negative_reviews))\n",
    "print(len(dvd_positive_reviews))\n",
    "print(len(dvd_negative_reviews))\n",
    "print(len(electronics_positive_reviews))\n",
    "print(len(electronics_negative_reviews))"
   ]
  },
  {
   "cell_type": "code",
   "execution_count": 6,
   "metadata": {
    "execution": {
     "iopub.execute_input": "2022-05-31T21:39:29.974414Z",
     "iopub.status.busy": "2022-05-31T21:39:29.973835Z",
     "iopub.status.idle": "2022-05-31T21:39:30.010997Z",
     "shell.execute_reply": "2022-05-31T21:39:30.010010Z",
     "shell.execute_reply.started": "2022-05-31T21:39:29.974351Z"
    }
   },
   "outputs": [
    {
     "name": "stdout",
     "output_type": "stream",
     "text": [
      "[nltk_data] Downloading package stopwords to /usr/share/nltk_data...\n",
      "[nltk_data]   Package stopwords is already up-to-date!\n",
      "[nltk_data] Downloading package wordnet to /usr/share/nltk_data...\n",
      "[nltk_data]   Package wordnet is already up-to-date!\n",
      "[nltk_data] Downloading package punkt to /usr/share/nltk_data...\n",
      "[nltk_data]   Package punkt is already up-to-date!\n",
      "[nltk_data] Downloading package averaged_perceptron_tagger to\n",
      "[nltk_data]     /usr/share/nltk_data...\n",
      "[nltk_data]   Package averaged_perceptron_tagger is already up-to-\n",
      "[nltk_data]       date!\n"
     ]
    },
    {
     "data": {
      "text/plain": [
       "True"
      ]
     },
     "execution_count": 6,
     "metadata": {},
     "output_type": "execute_result"
    }
   ],
   "source": [
    "import nltk\n",
    "nltk.download('stopwords')\n",
    "nltk.download('wordnet')\n",
    "nltk.download('punkt')\n",
    "nltk.download('averaged_perceptron_tagger')"
   ]
  },
  {
   "cell_type": "code",
   "execution_count": 7,
   "metadata": {
    "execution": {
     "iopub.execute_input": "2022-05-31T21:39:34.812292Z",
     "iopub.status.busy": "2022-05-31T21:39:34.811833Z",
     "iopub.status.idle": "2022-05-31T21:39:34.817554Z",
     "shell.execute_reply": "2022-05-31T21:39:34.816486Z",
     "shell.execute_reply.started": "2022-05-31T21:39:34.812246Z"
    }
   },
   "outputs": [],
   "source": [
    "import numpy as np\n",
    "from nltk.corpus import stopwords\n",
    "from nltk.tokenize import word_tokenize\n",
    "import bs4 as bs\n",
    "import urllib.request\n",
    "import re\n",
    "import nltk"
   ]
  },
  {
   "cell_type": "code",
   "execution_count": 14,
   "metadata": {
    "execution": {
     "iopub.execute_input": "2022-05-31T21:58:13.421062Z",
     "iopub.status.busy": "2022-05-31T21:58:13.420636Z",
     "iopub.status.idle": "2022-05-31T21:58:13.429837Z",
     "shell.execute_reply": "2022-05-31T21:58:13.428748Z",
     "shell.execute_reply.started": "2022-05-31T21:58:13.421028Z"
    }
   },
   "outputs": [],
   "source": [
    "from nltk.stem import WordNetLemmatizer\n",
    "from sklearn.linear_model import LogisticRegression\n",
    "from bs4 import BeautifulSoup\n",
    "from nltk.corpus import stopwords\n",
    "#preprocessing for data\n",
    "def my_tokenizer(s):\n",
    "    processed_article = re.sub('[^a-zA-Z]', ' ', s )\n",
    "    processed_article = re.sub(r'\\s+', ' ', processed_article)\n",
    "    stop_words = set(stopwords.words('english'))\n",
    "    tokens = nltk.tokenize.word_tokenize(processed_article)\n",
    "    tokens = [t for t in tokens if len(t) >2]\n",
    "    filtered_sentence = [w for w in tokens if not w.lower() in stop_words]\n",
    "    return filtered_sentence"
   ]
  },
  {
   "cell_type": "code",
   "execution_count": 15,
   "metadata": {
    "execution": {
     "iopub.execute_input": "2022-05-31T21:58:18.389084Z",
     "iopub.status.busy": "2022-05-31T21:58:18.388125Z",
     "iopub.status.idle": "2022-05-31T21:58:30.909538Z",
     "shell.execute_reply": "2022-05-31T21:58:30.908742Z",
     "shell.execute_reply.started": "2022-05-31T21:58:18.389046Z"
    }
   },
   "outputs": [],
   "source": [
    "#get tokenized data\n",
    "book_positive_tokenized = []\n",
    "book_negative_tokenized = []\n",
    "dvd_positive_tokenized = []\n",
    "dvd_negative_tokenized = []\n",
    "electronics_positive_tokenized = []\n",
    "electronics_negative_tokenized = []\n",
    "kitchen_housewares_positive_tokenized = []\n",
    "kitchen_housewares_negative_tokenized = []\n",
    "for review in book_positive_reviews:\n",
    "    tokens = my_tokenizer(review.text)\n",
    "    book_positive_tokenized.append(tokens)\n",
    "            \n",
    "for review in book_negative_reviews:\n",
    "    tokens = my_tokenizer(review.text)\n",
    "    book_negative_tokenized.append(tokens)\n",
    "            \n",
    "\n",
    "            \n",
    "for review in dvd_positive_reviews:\n",
    "    tokens = my_tokenizer(review.text)\n",
    "    dvd_positive_tokenized.append(tokens)\n",
    "            \n",
    "for review in dvd_negative_reviews:\n",
    "    tokens = my_tokenizer(review.text)\n",
    "    dvd_negative_tokenized.append(tokens)\n",
    "            \n",
    "for review in electronics_positive_reviews:\n",
    "    tokens = my_tokenizer(review.text)\n",
    "    electronics_positive_tokenized.append(tokens)\n",
    "            \n",
    "for review in electronics_negative_reviews:\n",
    "    tokens = my_tokenizer(review.text)\n",
    "    electronics_negative_tokenized.append(tokens)\n",
    "\n",
    "for review in kitchen_housewares_positive_reviews:\n",
    "    tokens = my_tokenizer(review.text)\n",
    "    kitchen_housewares_positive_tokenized.append(tokens)\n",
    "    \n",
    "for review in kitchen_housewares_negative_reviews:\n",
    "    tokens = my_tokenizer(review.text)\n",
    "    kitchen_housewares_negative_tokenized.append(tokens)"
   ]
  },
  {
   "cell_type": "code",
   "execution_count": 27,
   "metadata": {
    "execution": {
     "iopub.execute_input": "2022-05-31T22:31:12.778960Z",
     "iopub.status.busy": "2022-05-31T22:31:12.778527Z",
     "iopub.status.idle": "2022-05-31T22:31:12.785771Z",
     "shell.execute_reply": "2022-05-31T22:31:12.784467Z",
     "shell.execute_reply.started": "2022-05-31T22:31:12.778925Z"
    }
   },
   "outputs": [],
   "source": [
    "#function make word2vec for all words\n",
    "def word2vec(words):\n",
    "    from gensim.models import Word2Vec\n",
    "    model = Word2Vec(words, min_count=30) \n",
    "    words_doc = list(model.wv.key_to_index)\n",
    "    return(words_doc)"
   ]
  },
  {
   "cell_type": "code",
   "execution_count": 17,
   "metadata": {
    "execution": {
     "iopub.execute_input": "2022-05-31T22:06:38.699947Z",
     "iopub.status.busy": "2022-05-31T22:06:38.698916Z",
     "iopub.status.idle": "2022-05-31T22:07:57.984158Z",
     "shell.execute_reply": "2022-05-31T22:07:57.982807Z",
     "shell.execute_reply.started": "2022-05-31T22:06:38.699895Z"
    }
   },
   "outputs": [],
   "source": [
    "from gensim import models\n",
    "#get pretrained model\n",
    "w = models.KeyedVectors.load_word2vec_format(\n",
    "    '../input/googlenewsvectors/GoogleNews-vectors-negative300.bin', binary=True)"
   ]
  },
  {
   "cell_type": "code",
   "execution_count": 28,
   "metadata": {
    "execution": {
     "iopub.execute_input": "2022-05-31T22:31:17.237887Z",
     "iopub.status.busy": "2022-05-31T22:31:17.237470Z",
     "iopub.status.idle": "2022-05-31T22:31:19.016198Z",
     "shell.execute_reply": "2022-05-31T22:31:19.015469Z",
     "shell.execute_reply.started": "2022-05-31T22:31:17.237850Z"
    }
   },
   "outputs": [],
   "source": [
    "#make embedded for words and get its embedded\n",
    "embedding_book_positive = [w[x] for x in word2vec(book_positive_tokenized)]\n",
    "embedding_book_negative = [w[x] for x in word2vec(book_negative_tokenized)]\n",
    "embedding_dvd_positive = [w[x] for x in word2vec(dvd_positive_tokenized)]\n",
    "embedding_dvd_negative = [w[x] for x in word2vec(dvd_negative_tokenized)]\n",
    "embedding_electronics_positive = [w[x] for x in word2vec(electronics_positive_tokenized)]\n",
    "embedding_electronics_negative = [w[x] for x in word2vec(electronics_negative_tokenized)]\n",
    "embedding_kitchen_housewares_positive = [w[x] for x in word2vec(kitchen_housewares_positive_tokenized)]\n",
    "embedding_kitchen_housewares_negative = [w[x] for x in word2vec(kitchen_housewares_negative_tokenized)]"
   ]
  },
  {
   "cell_type": "code",
   "execution_count": 31,
   "metadata": {
    "execution": {
     "iopub.execute_input": "2022-05-31T22:40:58.292716Z",
     "iopub.status.busy": "2022-05-31T22:40:58.292266Z",
     "iopub.status.idle": "2022-05-31T22:40:58.298618Z",
     "shell.execute_reply": "2022-05-31T22:40:58.297519Z",
     "shell.execute_reply.started": "2022-05-31T22:40:58.292682Z"
    }
   },
   "outputs": [],
   "source": [
    "#prepare labels for each file\n",
    "def prepare_labels(embedded_file,label):\n",
    "    labels=[]\n",
    "    for i in range(len(embedded_file)):\n",
    "        labels.append(label)\n",
    "    return labels"
   ]
  },
  {
   "cell_type": "code",
   "execution_count": 32,
   "metadata": {
    "execution": {
     "iopub.execute_input": "2022-05-31T22:44:51.824824Z",
     "iopub.status.busy": "2022-05-31T22:44:51.824195Z",
     "iopub.status.idle": "2022-05-31T22:44:51.832768Z",
     "shell.execute_reply": "2022-05-31T22:44:51.831081Z",
     "shell.execute_reply.started": "2022-05-31T22:44:51.824780Z"
    }
   },
   "outputs": [],
   "source": [
    "book_positive_label=prepare_labels(embedding_book_positive,1)\n",
    "book_negative_label=prepare_labels(embedding_book_negative,0)\n",
    "dvd_positive_label=prepare_labels(embedding_dvd_positive,1)\n",
    "dvd_negative_label=prepare_labels(embedding_dvd_negative,0)\n",
    "electronics_positive_label=prepare_labels(embedding_electronics_positive,1)\n",
    "electronics_negative_label=prepare_labels(embedding_electronics_negative,0)\n",
    "kitchen_housewares_positive_label=prepare_labels(embedding_kitchen_housewares_positive,1)\n",
    "kitchen_housewares_negative_label=prepare_labels(embedding_kitchen_housewares_negative,0)"
   ]
  },
  {
   "cell_type": "code",
   "execution_count": 42,
   "metadata": {
    "execution": {
     "iopub.execute_input": "2022-05-31T22:50:04.875564Z",
     "iopub.status.busy": "2022-05-31T22:50:04.874531Z",
     "iopub.status.idle": "2022-05-31T22:50:04.879887Z",
     "shell.execute_reply": "2022-05-31T22:50:04.879185Z",
     "shell.execute_reply.started": "2022-05-31T22:50:04.875510Z"
    }
   },
   "outputs": [],
   "source": [
    "train_data=[embedding_book_positive,embedding_book_negative,embedding_dvd_positive,embedding_dvd_negative,embedding_electronics_positive,embedding_electronics_negative]"
   ]
  },
  {
   "cell_type": "code",
   "execution_count": 43,
   "metadata": {
    "execution": {
     "iopub.execute_input": "2022-05-31T22:50:08.315367Z",
     "iopub.status.busy": "2022-05-31T22:50:08.314674Z",
     "iopub.status.idle": "2022-05-31T22:50:08.320002Z",
     "shell.execute_reply": "2022-05-31T22:50:08.319088Z",
     "shell.execute_reply.started": "2022-05-31T22:50:08.315326Z"
    }
   },
   "outputs": [],
   "source": [
    "train_label=[book_positive_label,book_negative_label,dvd_positive_label,dvd_negative_label,electronics_positive_label,electronics_negative_label]"
   ]
  },
  {
   "cell_type": "code",
   "execution_count": 44,
   "metadata": {
    "execution": {
     "iopub.execute_input": "2022-05-31T22:51:30.848167Z",
     "iopub.status.busy": "2022-05-31T22:51:30.847466Z",
     "iopub.status.idle": "2022-05-31T22:51:30.852158Z",
     "shell.execute_reply": "2022-05-31T22:51:30.851558Z",
     "shell.execute_reply.started": "2022-05-31T22:51:30.848130Z"
    }
   },
   "outputs": [],
   "source": [
    "test_data=[embedding_kitchen_housewares_positive,embedding_kitchen_housewares_negative]"
   ]
  },
  {
   "cell_type": "code",
   "execution_count": 45,
   "metadata": {
    "execution": {
     "iopub.execute_input": "2022-05-31T22:52:08.438974Z",
     "iopub.status.busy": "2022-05-31T22:52:08.438543Z",
     "iopub.status.idle": "2022-05-31T22:52:08.443373Z",
     "shell.execute_reply": "2022-05-31T22:52:08.442627Z",
     "shell.execute_reply.started": "2022-05-31T22:52:08.438938Z"
    }
   },
   "outputs": [],
   "source": [
    "test_label=[kitchen_housewares_positive_label,kitchen_housewares_negative_label]"
   ]
  },
  {
   "cell_type": "code",
   "execution_count": 48,
   "metadata": {
    "execution": {
     "iopub.execute_input": "2022-05-31T23:01:11.113332Z",
     "iopub.status.busy": "2022-05-31T23:01:11.112411Z",
     "iopub.status.idle": "2022-05-31T23:01:11.131087Z",
     "shell.execute_reply": "2022-05-31T23:01:11.129927Z",
     "shell.execute_reply.started": "2022-05-31T23:01:11.113285Z"
    }
   },
   "outputs": [],
   "source": [
    "import numpy as np\n",
    "x_train=np.concatenate(train_data,axis=0)"
   ]
  },
  {
   "cell_type": "code",
   "execution_count": 50,
   "metadata": {
    "execution": {
     "iopub.execute_input": "2022-05-31T23:01:45.291436Z",
     "iopub.status.busy": "2022-05-31T23:01:45.291026Z",
     "iopub.status.idle": "2022-05-31T23:01:45.296336Z",
     "shell.execute_reply": "2022-05-31T23:01:45.295298Z",
     "shell.execute_reply.started": "2022-05-31T23:01:45.291383Z"
    }
   },
   "outputs": [
    {
     "name": "stdout",
     "output_type": "stream",
     "text": [
      "(2398, 300)\n"
     ]
    }
   ],
   "source": [
    "print(x_train.shape)"
   ]
  },
  {
   "cell_type": "code",
   "execution_count": 52,
   "metadata": {
    "execution": {
     "iopub.execute_input": "2022-05-31T23:03:56.613432Z",
     "iopub.status.busy": "2022-05-31T23:03:56.612412Z",
     "iopub.status.idle": "2022-05-31T23:03:56.620397Z",
     "shell.execute_reply": "2022-05-31T23:03:56.619365Z",
     "shell.execute_reply.started": "2022-05-31T23:03:56.613372Z"
    }
   },
   "outputs": [
    {
     "name": "stdout",
     "output_type": "stream",
     "text": [
      "(2398,)\n"
     ]
    }
   ],
   "source": [
    "y_train=np.concatenate(train_label,axis=0)\n",
    "print(y_train.shape)"
   ]
  },
  {
   "cell_type": "code",
   "execution_count": 53,
   "metadata": {
    "execution": {
     "iopub.execute_input": "2022-05-31T23:04:36.083838Z",
     "iopub.status.busy": "2022-05-31T23:04:36.082838Z",
     "iopub.status.idle": "2022-05-31T23:04:36.092476Z",
     "shell.execute_reply": "2022-05-31T23:04:36.091347Z",
     "shell.execute_reply.started": "2022-05-31T23:04:36.083789Z"
    }
   },
   "outputs": [
    {
     "name": "stdout",
     "output_type": "stream",
     "text": [
      "(589, 300)\n"
     ]
    }
   ],
   "source": [
    "x_test=np.concatenate(test_data,axis=0)\n",
    "print(x_test.shape)"
   ]
  },
  {
   "cell_type": "code",
   "execution_count": 54,
   "metadata": {
    "execution": {
     "iopub.execute_input": "2022-05-31T23:05:29.890011Z",
     "iopub.status.busy": "2022-05-31T23:05:29.889341Z",
     "iopub.status.idle": "2022-05-31T23:05:29.895516Z",
     "shell.execute_reply": "2022-05-31T23:05:29.894607Z",
     "shell.execute_reply.started": "2022-05-31T23:05:29.889972Z"
    }
   },
   "outputs": [
    {
     "name": "stdout",
     "output_type": "stream",
     "text": [
      "(589,)\n"
     ]
    }
   ],
   "source": [
    "y_test=np.concatenate(test_label,axis=0)\n",
    "print(y_test.shape)"
   ]
  },
  {
   "cell_type": "code",
   "execution_count": 60,
   "metadata": {
    "execution": {
     "iopub.execute_input": "2022-05-31T23:10:45.275949Z",
     "iopub.status.busy": "2022-05-31T23:10:45.275525Z",
     "iopub.status.idle": "2022-05-31T23:10:45.340798Z",
     "shell.execute_reply": "2022-05-31T23:10:45.339795Z",
     "shell.execute_reply.started": "2022-05-31T23:10:45.275912Z"
    }
   },
   "outputs": [
    {
     "name": "stdout",
     "output_type": "stream",
     "text": [
      "Classification rate:  0.5755517826825127\n"
     ]
    }
   ],
   "source": [
    "model = LogisticRegression()\n",
    "model.fit(x_train,y_train)\n",
    "print(\"Classification rate: \",model.score(x_test,y_test))"
   ]
  },
  {
   "cell_type": "code",
   "execution_count": 61,
   "metadata": {
    "execution": {
     "iopub.execute_input": "2022-05-31T23:10:48.716864Z",
     "iopub.status.busy": "2022-05-31T23:10:48.716467Z",
     "iopub.status.idle": "2022-05-31T23:10:48.741378Z",
     "shell.execute_reply": "2022-05-31T23:10:48.740301Z",
     "shell.execute_reply.started": "2022-05-31T23:10:48.716835Z"
    }
   },
   "outputs": [
    {
     "name": "stdout",
     "output_type": "stream",
     "text": [
      "Predicted values:\n",
      "[0 1 1 0 1 1 0 1 0 0 1 1 1 1 0 0 0 0 1 0 1 1 1 1 0 0 0 1 0 1 0 0 0 1 1 1 1\n",
      " 1 1 0 1 1 1 0 0 1 1 0 0 0 1 1 0 0 1 1 1 0 1 0 1 0 0 1 1 0 1 0 1 1 1 1 0 0\n",
      " 1 0 1 0 0 1 0 0 0 1 1 0 0 1 0 1 0 1 1 1 0 1 1 1 1 1 0 0 0 1 0 1 0 0 0 0 1\n",
      " 0 1 0 0 0 0 1 1 1 1 0 0 1 1 1 1 1 1 1 1 1 0 0 1 0 1 0 1 0 1 0 0 1 1 1 1 0\n",
      " 1 1 0 1 0 1 1 0 0 1 0 1 1 1 0 1 1 1 0 0 1 1 1 1 1 0 1 0 1 1 0 1 1 1 1 1 1\n",
      " 1 1 0 1 1 0 1 0 0 1 0 0 1 0 0 1 0 0 1 1 1 1 0 1 1 1 1 0 0 0 1 1 0 1 0 0 0\n",
      " 1 0 1 0 0 0 0 0 0 1 1 0 0 0 0 1 1 0 0 1 1 1 0 1 1 1 1 0 1 0 0 1 1 1 1 1 0\n",
      " 1 0 1 0 0 1 0 1 1 1 1 1 0 1 0 1 0 0 1 0 0 0 1 1 0 0 0 0 0 1 1 1 0 1 0 0 0\n",
      " 1 0 1 1 1 1 1 0 0 0 1 0 0 1 0 1 0 1 1 0 0 1 0 1 0 0 1 0 0 1 0 0 0 0 0 0 1\n",
      " 0 0 1 0 1 0 0 0 0 1 1 0 0 0 1 0 0 0 0 1 0 0 1 0 1 0 1 0 0 1 1 0 0 0 0 0 0\n",
      " 0 1 0 0 0 1 1 0 1 1 1 0 0 1 0 0 0 0 0 1 1 0 1 0 1 0 1 0 0 1 1 0 0 0 1 0 1\n",
      " 0 1 1 1 0 1 1 1 1 1 1 0 1 1 1 1 1 0 1 1 0 0 0 0 0 1 1 0 0 0 0 0 0 0 0 0 0\n",
      " 0 1 1 0 0 1 0 1 1 0 0 1 1 0 1 0 1 0 0 0 1 0 0 0 1 0 0 1 0 1 1 0 1 0 1 0 1\n",
      " 0 1 0 0 1 0 0 0 0 1 0 1 1 1 0 1 1 0 1 1 0 0 1 0 1 0 1 0 1 1 1 0 0 1 1 0 1\n",
      " 0 1 0 0 0 0 0 0 0 0 0 0 0 0 0 0 1 1 1 1 0 1 1 0 1 1 0 0 1 0 0 0 0 0 1 1 0\n",
      " 1 0 0 1 1 0 0 0 0 1 0 0 0 0 1 0 1 1 1 1 0 1 0 0 0 0 0 0 0 0 0 1 0 0]\n",
      "Accuracy :  57.555178268251275\n",
      "Report :                precision    recall  f1-score   support\n",
      "\n",
      "           0       0.60      0.59      0.59       309\n",
      "           1       0.55      0.56      0.56       280\n",
      "\n",
      "    accuracy                           0.58       589\n",
      "   macro avg       0.57      0.57      0.57       589\n",
      "weighted avg       0.58      0.58      0.58       589\n",
      "\n"
     ]
    }
   ],
   "source": [
    "from sklearn.metrics import accuracy_score\n",
    "from sklearn.metrics import classification_report\n",
    "# Predicton on test with giniIndex\n",
    "y_pred = model.predict(x_test)\n",
    "print(\"Predicted values:\")\n",
    "print(y_pred)\n",
    "print (\"Accuracy : \",accuracy_score(y_test,y_pred)*100)\n",
    "print(\"Report : \",classification_report(y_test, y_pred))"
   ]
  }
 ],
 "metadata": {
  "kernelspec": {
   "display_name": "Python 3",
   "language": "python",
   "name": "python3"
  },
  "language_info": {
   "codemirror_mode": {
    "name": "ipython",
    "version": 3
   },
   "file_extension": ".py",
   "mimetype": "text/x-python",
   "name": "python",
   "nbconvert_exporter": "python",
   "pygments_lexer": "ipython3",
   "version": "3.8.3"
  }
 },
 "nbformat": 4,
 "nbformat_minor": 4
}
